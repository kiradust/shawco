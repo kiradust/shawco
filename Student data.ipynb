{
 "cells": [
  {
   "cell_type": "code",
   "execution_count": 37,
   "metadata": {
    "collapsed": false
   },
   "outputs": [],
   "source": [
    "# 22 April 2018\n",
    "# Author: Kira Dusterwald\n",
    "\n",
    "import csv\n",
    "from collections import Counter\n",
    "    \n",
    "student_list=[]\n",
    "list_per_clinic=[]\n",
    "\n",
    "# this imports the data per row in the .csv file to the list of all students\n",
    "with open('Clinic_administration.csv', 'rb') as csvfile:\n",
    "    sread = csv.DictReader(csvfile, delimiter=',')\n",
    "    for row in sread:\n",
    "        clinic_comm=row['comm_mem'].upper()\n",
    "        list_per_clinic.append(clinic_comm)\n",
    "        for i in range(1,25):\n",
    "            student=row['stu_present_'+str(i)].upper().replace(' ','').split(',')\n",
    "            if student[0] != ('' and clinic_comm):\n",
    "                list_per_clinic+=student\n",
    "        stu_other=row['other_students'].upper().replace(' ','').split(',')\n",
    "        if stu_other[0]!='':\n",
    "            list_per_clinic+=stu_other\n",
    "        student_list+=list_per_clinic\n",
    "        list_per_clinic=[]\n",
    "        \n",
    "# this counts the students in the master list\n",
    "dictionary=zip(Counter(student_list).keys(),Counter(student_list).values()) # equals to list(set(words)), frequency\n",
    "dictionary.sort()\n",
    "\n",
    "with open('attendance.csv', 'wb') as csvfile:\n",
    "    swrite = csv.writer(csvfile, delimiter=',')\n",
    "    swrite.writerows(dictionary)"
   ]
  },
  {
   "cell_type": "code",
   "execution_count": null,
   "metadata": {
    "collapsed": true
   },
   "outputs": [],
   "source": []
  }
 ],
 "metadata": {
  "kernelspec": {
   "display_name": "Python 2",
   "language": "python",
   "name": "python2"
  },
  "language_info": {
   "codemirror_mode": {
    "name": "ipython",
    "version": 2
   },
   "file_extension": ".py",
   "mimetype": "text/x-python",
   "name": "python",
   "nbconvert_exporter": "python",
   "pygments_lexer": "ipython2",
   "version": "2.7.13"
  }
 },
 "nbformat": 4,
 "nbformat_minor": 2
}
